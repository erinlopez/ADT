{
 "cells": [
  {
   "cell_type": "code",
   "execution_count": 1,
   "id": "dcc7c561",
   "metadata": {},
   "outputs": [],
   "source": [
    "import librosa\n",
    "import numpy as np\n",
    "import matplotlib.pyplot as plt\n",
    "from IPython.display import Audio\n",
    "import mir_eval.sonify\n",
    "import pandas as pd"
   ]
  },
  {
   "cell_type": "code",
   "execution_count": 156,
   "id": "affbc5d1",
   "metadata": {},
   "outputs": [],
   "source": []
  },
  {
   "cell_type": "code",
   "execution_count": 225,
   "id": "f471e64e",
   "metadata": {},
   "outputs": [],
   "source": [
    "class Drums:\n",
    "    def __init__(self, file):\n",
    "        self.file = file\n",
    "        self.y, self.sr = librosa.load(self.file) #load audio: y = time series, sr = sampling rate\n",
    "        self.len = librosa.get_duration(y = self.y, sr = self.sr)\n",
    "        \n",
    "    #play audio\n",
    "    def play(self): \n",
    "        return(Audio(data = self.y, rate = self.sr))\n",
    "    \n",
    "    #get tempo & beats\n",
    "    def tempo(self):\n",
    "        tempo, beat_frames = librosa.beat.beat_track(y = self.y, sr = self.sr)\n",
    "        return(tempo, beat_frames)\n",
    "    \n",
    "    #mel spectrogram & onsets/beats plot\n",
    "    def melspec(self, xlim = None): #xlim = [n, n] to set timeframe\n",
    "        S = librosa.feature.melspectrogram(y = self.y, sr = self.sr)\n",
    "        \n",
    "        #onset strength and times\n",
    "        beat_frames = self.tempo()[1]\n",
    "        o_env = librosa.onset.onset_strength(y=self.y, sr=self.sr)\n",
    "        times = librosa.times_like(o_env, sr=self.sr)\n",
    "        onset_frames = librosa.onset.onset_detect(onset_envelope=o_env, sr=self.sr)\n",
    "\n",
    "        #figures\n",
    "        fig, (ax, ax2) = plt.subplots(nrows=2, sharex=True)\n",
    "        ax.set(xlim= xlim, title='Mel Spec')\n",
    "        librosa.display.specshow(librosa.power_to_db(S, ref=np.max),\n",
    "                         x_axis='time', y_axis='mel', ax=ax)\n",
    "        ax2.plot(times, o_env, label='Onset strength')\n",
    "        ax2.vlines(times[beat_frames], 0, o_env.max(), color='black', alpha=0.9,\n",
    "           linestyle='-', label='Beats')\n",
    "        ax2.vlines(times[onset_frames], 0, o_env.max(), color='r', alpha=0.9,\n",
    "           linestyle='--', label='Onsets')\n",
    "        ax2.legend()\n",
    "        ax.label_outer()\n",
    "        \n",
    "        return(S)\n",
    "    \n",
    "    #save mel spec to csv\n",
    "    def melcsv(self):\n",
    "        S = self.melspec()\n",
    "        name = f\"{str(file)[:-4]}_melspec.csv\"\n",
    "        np.savetxt(name, S, delimiter=\",\") #save as csv\n",
    "    \n",
    "    #chromagram\n",
    "    def chroma(self, xlim = None):\n",
    "        Sc = np.abs(librosa.stft(self.y, n_fft=4096))**2\n",
    "        chroma = librosa.feature.chroma_stft(S=Sc, sr=self.sr)\n",
    "\n",
    "        fig, (ax, ax2) = plt.subplots(nrows=2, sharex=True)\n",
    "        ax.set(xlim = xlim, title = 'Chromagram')\n",
    "        img = librosa.display.specshow(librosa.amplitude_to_db(Sc, ref=np.max),\n",
    "                               y_axis='log', x_axis='time', ax=ax)\n",
    "        fig.colorbar(img, ax=[ax])\n",
    "        ax.label_outer()\n",
    "        img = librosa.display.specshow(chroma, y_axis='chroma', x_axis='time', ax=ax2)\n",
    "        fig.colorbar(img, ax=[ax2])"
   ]
  },
  {
   "cell_type": "code",
   "execution_count": null,
   "id": "23b5846b",
   "metadata": {
    "scrolled": true
   },
   "outputs": [],
   "source": []
  },
  {
   "cell_type": "code",
   "execution_count": null,
   "id": "f88e909a",
   "metadata": {},
   "outputs": [],
   "source": []
  }
 ],
 "metadata": {
  "kernelspec": {
   "display_name": "Python 3 (ipykernel)",
   "language": "python",
   "name": "python3"
  },
  "language_info": {
   "codemirror_mode": {
    "name": "ipython",
    "version": 3
   },
   "file_extension": ".py",
   "mimetype": "text/x-python",
   "name": "python",
   "nbconvert_exporter": "python",
   "pygments_lexer": "ipython3",
   "version": "3.9.12"
  }
 },
 "nbformat": 4,
 "nbformat_minor": 5
}
