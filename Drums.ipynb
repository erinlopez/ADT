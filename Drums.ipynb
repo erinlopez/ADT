{
 "cells": [
  {
   "cell_type": "code",
   "execution_count": 1,
   "id": "dcc7c561",
   "metadata": {},
   "outputs": [],
   "source": [
    "import librosa\n",
    "import numpy as np\n",
    "import matplotlib.pyplot as plt\n",
    "from IPython.display import Audio\n",
    "import mir_eval.sonify\n",
    "import pandas as pd"
   ]
  },
  {
   "cell_type": "code",
   "execution_count": 2,
   "id": "affbc5d1",
   "metadata": {},
   "outputs": [],
   "source": []
  },
  {
   "cell_type": "code",
   "execution_count": 5,
   "id": "f471e64e",
   "metadata": {},
   "outputs": [],
   "source": [
    "class Drums:\n",
    "    def __init__(self, file):\n",
    "        self.file = file\n",
    "        self.y, self.sr = librosa.load(self.file) #load audio: y = time series, sr = sampling rate\n",
    "        \n",
    "    #play audio\n",
    "    def play(self): \n",
    "        return(Audio(data = self.y, rate = self.sr))\n",
    "    \n",
    "    #get tempo & beats\n",
    "    def tempo(self):\n",
    "        tempo, beat_frames = librosa.beat.beat_track(y = self.y, sr = self.sr)\n",
    "        return(tempo, beat_frames)\n",
    "    \n",
    "    #mel spectrogram\n",
    "    def melspec(self):\n",
    "        S = librosa.feature.melspectrogram(y = self.y, sr = self.sr)\n",
    "        \n",
    "        \n",
    "        img = librosa.display.specshow(librosa.power_to_db(S, ref=np.max),\n",
    "                         x_axis='time', y_axis='mel')\n",
    "        \n",
    "        return(S, img)\n",
    "\n",
    "    #save mel spec image\n",
    "    def melsave(self, filename, imgdir):\n",
    "        self.melspec()[1]\n",
    "        name = f\"{imgdir}{filename[:-4]}.png\"\n",
    "        plt.savefig(name)\n",
    "        \n",
    "    #chromagram\n",
    "    def chroma(self):\n",
    "        Sc = np.abs(librosa.stft(self.y, n_fft=4096))**2\n",
    "        chroma = librosa.feature.chroma_stft(S=Sc, sr=self.sr)\n",
    "\n",
    "        fig, (ax, ax2) = plt.subplots(nrows=2, sharex=True)\n",
    "        ax.set(title = 'Chromagram')\n",
    "        img = librosa.display.specshow(librosa.amplitude_to_db(Sc, ref=np.max),\n",
    "                               y_axis='log', x_axis='time', ax=ax)\n",
    "        fig.colorbar(img, ax=[ax])\n",
    "        ax.label_outer()\n",
    "        img = librosa.display.specshow(chroma, y_axis='chroma', x_axis='time', ax=ax2)\n",
    "        fig.colorbar(img, ax=[ax2])\n"
   ]
  }
 ],
 "metadata": {
  "kernelspec": {
   "display_name": "Python 3 (ipykernel)",
   "language": "python",
   "name": "python3"
  },
  "language_info": {
   "codemirror_mode": {
    "name": "ipython",
    "version": 3
   },
   "file_extension": ".py",
   "mimetype": "text/x-python",
   "name": "python",
   "nbconvert_exporter": "python",
   "pygments_lexer": "ipython3",
   "version": "3.9.12"
  }
 },
 "nbformat": 4,
 "nbformat_minor": 5
}
