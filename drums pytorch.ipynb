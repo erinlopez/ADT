{
 "cells": [
  {
   "cell_type": "code",
   "execution_count": 11,
   "id": "c99d2c81",
   "metadata": {},
   "outputs": [],
   "source": [
    "import torch\n",
    "import torchvision\n",
    "import torchvision.transforms as transforms\n",
    "import torchvision.datasets as datasets\n",
    "from torch.utils.data import DataLoader\n",
    "from torchvision.datasets import DatasetFolder\n",
    "from torch.utils.data import random_split\n",
    "import matplotlib.pyplot as plt\n",
    "import numpy as np\n",
    "import torch.nn as nn\n",
    "import torch.nn.functional as F\n",
    "import torch.optim as optim\n",
    "import pandas as pd\n",
    "from sklearn.metrics import confusion_matrix\n"
   ]
  },
  {
   "cell_type": "code",
   "execution_count": 12,
   "id": "281e3011",
   "metadata": {},
   "outputs": [],
   "source": [
    "images = 'drumsdataset/mel_img'"
   ]
  },
  {
   "cell_type": "code",
   "execution_count": 13,
   "id": "c42ac2ae",
   "metadata": {},
   "outputs": [],
   "source": [
    "#classes = ('cymbal', 'kick', 'snare', 'tom') #in order of folders\n",
    "\n",
    "classes = ('ck', 'cymbal', 'kick', 'ks', 'snare' ,'tom')"
   ]
  },
  {
   "cell_type": "code",
   "execution_count": 52,
   "id": "e2528315",
   "metadata": {},
   "outputs": [],
   "source": [
    "class DrumsModel:\n",
    "    def __init__(self, root, classes, train = False):\n",
    "        self.root = root\n",
    "        self.classes = classes\n",
    "        \n",
    "        transform = transforms.ToTensor()\n",
    "        batch_size = 4\n",
    "        num_workers = 2\n",
    "\n",
    "        data = datasets.ImageFolder(root = self.root, transform = transform)\n",
    "\n",
    "        #split train / test data\n",
    "        if train == True:\n",
    "            train = int(0.8 * len(data))\n",
    "            test = len(data) - train\n",
    "            train, test = random_split(data, [train, test])\n",
    "\n",
    "            self.train_loader = DataLoader(train, batch_size = batch_size, shuffle = True, num_workers = num_workers)\n",
    "            self.loader = DataLoader(test, batch_size = batch_size, shuffle = False, num_workers = num_workers)\n",
    "\n",
    "        #load all data\n",
    "        else:\n",
    "            self.loader = DataLoader(data, batch_size = batch_size, shuffle = False, num_workers = num_workers)\n",
    "\n",
    "    #returns images with truth & prediction\n",
    "    def predpic(self):\n",
    "        dataiter = iter(self.loader)\n",
    "        images, labels = next(dataiter)\n",
    "\n",
    "        # print images\n",
    "        imgshow(torchvision.utils.make_grid(images))\n",
    "        print('GroundTruth:', ' '.join('%s' % classes[labels[j]] for j in range(4)))\n",
    "\n",
    "        outputs = net(images)\n",
    "        _, predicted = torch.max(outputs, 1)\n",
    "\n",
    "        print('Predicted:', ' '.join('%s' % classes[predicted[j]] for j in range(4)))\n",
    "\n",
    "    #returns highest model accuracy\n",
    "    def accuracy(self):\n",
    "        acc = 0\n",
    "        count = 0\n",
    "        predlst = []\n",
    "        truth = []\n",
    "        for inputs, labels in self.loader:\n",
    "            outputs = net(inputs)\n",
    "            acc += (torch.argmax(outputs, 1) == labels).float().sum()\n",
    "            count += len(labels)\n",
    "            _, pred = torch.max(outputs, 1)\n",
    "            predlst.extend(pred.tolist())\n",
    "            truth.extend(labels.tolist())\n",
    "        acc /= count\n",
    "        print(\"Epoch %d: model accuracy %.2f%%\" % (epoch, acc*100))\n",
    "\n",
    "        df = pd.DataFrame({'pred':predlst, 'true':truth})\n",
    "        return(df)\n",
    "    \n",
    "    #returns confusion matrix\n",
    "    def conf(self):\n",
    "        pred = self.accuracy()['pred']\n",
    "        truth = self.accuracy()['true']\n",
    "        \n",
    "        #confusion matrix\n",
    "        conf = pd.DataFrame(confusion_matrix(truth, pred))\n",
    "        conf.columns = self.classes\n",
    "        conf.index = self.classes\n",
    "\n",
    "        #accuracy column\n",
    "        ckacc = conf['ck'][0] / int(sum(conf.loc['ck']))\n",
    "        cymacc = conf['cymbal'][1] / int(sum(conf.loc['cymbal']))\n",
    "        kickacc = conf['kick'][2] / int(sum(conf.loc['kick']))\n",
    "        ksacc = conf['ks'][3] / int(sum(conf.loc['ks']))\n",
    "        snareacc = conf['snare'][4] / int(sum(conf.loc['snare']))\n",
    "        tomacc = conf['tom'][5] / int(sum(conf.loc['tom']))\n",
    "\n",
    "        acc = [ckacc, cymacc, kickacc, ksacc, snareacc, tomacc]\n",
    "        conf['acc'] = acc\n",
    "\n",
    "        return(conf)\n",
    "\n",
    "    #returns dataframe of predictions\n",
    "    def predict(self):\n",
    "        labs = {0:'ck', 1:'cymbal', 2:'kick', 3:'ks', 4:'snare' ,5:'toms'}\n",
    "        predict = pd.DataFrame(self.accuracy()['pred'])\n",
    "\n",
    "        drum = []\n",
    "        for p in predict['pred']:\n",
    "            drum.append(labs[p])\n",
    "\n",
    "        predict['drum'] = drum\n",
    "\n",
    "        return(predict)"
   ]
  },
  {
   "cell_type": "code",
   "execution_count": 15,
   "id": "81cf71e8",
   "metadata": {},
   "outputs": [],
   "source": [
    "dm = DrumsModel(images, classes, train = True)\n",
    "#dm.conf()\n"
   ]
  },
  {
   "cell_type": "code",
   "execution_count": 17,
   "id": "ecce5ff0",
   "metadata": {},
   "outputs": [
    {
     "name": "stdout",
     "output_type": "stream",
     "text": [
      "Epoch 14: model accuracy 93.48%\n",
      "Epoch 14: model accuracy 93.48%\n"
     ]
    },
    {
     "data": {
      "text/html": [
       "<div>\n",
       "<style scoped>\n",
       "    .dataframe tbody tr th:only-of-type {\n",
       "        vertical-align: middle;\n",
       "    }\n",
       "\n",
       "    .dataframe tbody tr th {\n",
       "        vertical-align: top;\n",
       "    }\n",
       "\n",
       "    .dataframe thead th {\n",
       "        text-align: right;\n",
       "    }\n",
       "</style>\n",
       "<table border=\"1\" class=\"dataframe\">\n",
       "  <thead>\n",
       "    <tr style=\"text-align: right;\">\n",
       "      <th></th>\n",
       "      <th>ck</th>\n",
       "      <th>cymbal</th>\n",
       "      <th>kick</th>\n",
       "      <th>ks</th>\n",
       "      <th>snare</th>\n",
       "      <th>tom</th>\n",
       "      <th>acc</th>\n",
       "    </tr>\n",
       "  </thead>\n",
       "  <tbody>\n",
       "    <tr>\n",
       "      <th>ck</th>\n",
       "      <td>2</td>\n",
       "      <td>0</td>\n",
       "      <td>0</td>\n",
       "      <td>0</td>\n",
       "      <td>0</td>\n",
       "      <td>0</td>\n",
       "      <td>1.000000</td>\n",
       "    </tr>\n",
       "    <tr>\n",
       "      <th>cymbal</th>\n",
       "      <td>0</td>\n",
       "      <td>10</td>\n",
       "      <td>0</td>\n",
       "      <td>0</td>\n",
       "      <td>0</td>\n",
       "      <td>0</td>\n",
       "      <td>1.000000</td>\n",
       "    </tr>\n",
       "    <tr>\n",
       "      <th>kick</th>\n",
       "      <td>0</td>\n",
       "      <td>0</td>\n",
       "      <td>10</td>\n",
       "      <td>1</td>\n",
       "      <td>0</td>\n",
       "      <td>0</td>\n",
       "      <td>0.909091</td>\n",
       "    </tr>\n",
       "    <tr>\n",
       "      <th>ks</th>\n",
       "      <td>0</td>\n",
       "      <td>0</td>\n",
       "      <td>2</td>\n",
       "      <td>4</td>\n",
       "      <td>0</td>\n",
       "      <td>0</td>\n",
       "      <td>0.666667</td>\n",
       "    </tr>\n",
       "    <tr>\n",
       "      <th>snare</th>\n",
       "      <td>0</td>\n",
       "      <td>0</td>\n",
       "      <td>0</td>\n",
       "      <td>0</td>\n",
       "      <td>10</td>\n",
       "      <td>0</td>\n",
       "      <td>1.000000</td>\n",
       "    </tr>\n",
       "    <tr>\n",
       "      <th>tom</th>\n",
       "      <td>0</td>\n",
       "      <td>0</td>\n",
       "      <td>0</td>\n",
       "      <td>0</td>\n",
       "      <td>0</td>\n",
       "      <td>7</td>\n",
       "      <td>1.000000</td>\n",
       "    </tr>\n",
       "  </tbody>\n",
       "</table>\n",
       "</div>"
      ],
      "text/plain": [
       "        ck  cymbal  kick  ks  snare  tom       acc\n",
       "ck       2       0     0   0      0    0  1.000000\n",
       "cymbal   0      10     0   0      0    0  1.000000\n",
       "kick     0       0    10   1      0    0  0.909091\n",
       "ks       0       0     2   4      0    0  0.666667\n",
       "snare    0       0     0   0     10    0  1.000000\n",
       "tom      0       0     0   0      0    7  1.000000"
      ]
     },
     "execution_count": 17,
     "metadata": {},
     "output_type": "execute_result"
    }
   ],
   "source": [
    "dm.conf()"
   ]
  },
  {
   "cell_type": "code",
   "execution_count": 56,
   "id": "06b94e57",
   "metadata": {
    "scrolled": true
   },
   "outputs": [],
   "source": [
    "rock = DrumsModel('rock', classes)"
   ]
  },
  {
   "cell_type": "code",
   "execution_count": 62,
   "id": "feb9be5c",
   "metadata": {},
   "outputs": [
    {
     "name": "stdout",
     "output_type": "stream",
     "text": [
      "Epoch 14: model accuracy 4.48%\n"
     ]
    }
   ],
   "source": [
    "rockacc = rock.predict()\n"
   ]
  },
  {
   "cell_type": "code",
   "execution_count": 63,
   "id": "49a4d66f",
   "metadata": {},
   "outputs": [
    {
     "data": {
      "text/html": [
       "<div>\n",
       "<style scoped>\n",
       "    .dataframe tbody tr th:only-of-type {\n",
       "        vertical-align: middle;\n",
       "    }\n",
       "\n",
       "    .dataframe tbody tr th {\n",
       "        vertical-align: top;\n",
       "    }\n",
       "\n",
       "    .dataframe thead th {\n",
       "        text-align: right;\n",
       "    }\n",
       "</style>\n",
       "<table border=\"1\" class=\"dataframe\">\n",
       "  <thead>\n",
       "    <tr style=\"text-align: right;\">\n",
       "      <th></th>\n",
       "      <th>pred</th>\n",
       "      <th>drum</th>\n",
       "    </tr>\n",
       "  </thead>\n",
       "  <tbody>\n",
       "    <tr>\n",
       "      <th>0</th>\n",
       "      <td>2</td>\n",
       "      <td>kick</td>\n",
       "    </tr>\n",
       "    <tr>\n",
       "      <th>1</th>\n",
       "      <td>3</td>\n",
       "      <td>ks</td>\n",
       "    </tr>\n",
       "    <tr>\n",
       "      <th>2</th>\n",
       "      <td>2</td>\n",
       "      <td>kick</td>\n",
       "    </tr>\n",
       "    <tr>\n",
       "      <th>3</th>\n",
       "      <td>3</td>\n",
       "      <td>ks</td>\n",
       "    </tr>\n",
       "    <tr>\n",
       "      <th>4</th>\n",
       "      <td>2</td>\n",
       "      <td>kick</td>\n",
       "    </tr>\n",
       "    <tr>\n",
       "      <th>...</th>\n",
       "      <td>...</td>\n",
       "      <td>...</td>\n",
       "    </tr>\n",
       "    <tr>\n",
       "      <th>62</th>\n",
       "      <td>4</td>\n",
       "      <td>snare</td>\n",
       "    </tr>\n",
       "    <tr>\n",
       "      <th>63</th>\n",
       "      <td>3</td>\n",
       "      <td>ks</td>\n",
       "    </tr>\n",
       "    <tr>\n",
       "      <th>64</th>\n",
       "      <td>3</td>\n",
       "      <td>ks</td>\n",
       "    </tr>\n",
       "    <tr>\n",
       "      <th>65</th>\n",
       "      <td>0</td>\n",
       "      <td>ck</td>\n",
       "    </tr>\n",
       "    <tr>\n",
       "      <th>66</th>\n",
       "      <td>3</td>\n",
       "      <td>ks</td>\n",
       "    </tr>\n",
       "  </tbody>\n",
       "</table>\n",
       "<p>67 rows × 2 columns</p>\n",
       "</div>"
      ],
      "text/plain": [
       "    pred   drum\n",
       "0      2   kick\n",
       "1      3     ks\n",
       "2      2   kick\n",
       "3      3     ks\n",
       "4      2   kick\n",
       "..   ...    ...\n",
       "62     4  snare\n",
       "63     3     ks\n",
       "64     3     ks\n",
       "65     0     ck\n",
       "66     3     ks\n",
       "\n",
       "[67 rows x 2 columns]"
      ]
     },
     "execution_count": 63,
     "metadata": {},
     "output_type": "execute_result"
    }
   ],
   "source": [
    "rockacc"
   ]
  },
  {
   "cell_type": "code",
   "execution_count": 69,
   "id": "44ad8714",
   "metadata": {},
   "outputs": [
    {
     "data": {
      "text/plain": [
       "0.358"
      ]
     },
     "execution_count": 69,
     "metadata": {},
     "output_type": "execute_result"
    }
   ],
   "source": [
    "rock_key = pd.read_csv('rock/rock_key.csv')\n",
    "pd.DataFrame(rock_key)\n",
    "true = rock_key['code']\n",
    "\n",
    "rockacc['true'] = true\n",
    "\n",
    "count = 0\n",
    "rockacc['check'] = rockacc['pred'] == rockacc['true']\n",
    "round(rockacc['check'].value_counts()[1] / len(rockacc['check']), 3)\n"
   ]
  },
  {
   "cell_type": "code",
   "execution_count": 70,
   "id": "f992958d",
   "metadata": {},
   "outputs": [
    {
     "data": {
      "text/html": [
       "<div>\n",
       "<style scoped>\n",
       "    .dataframe tbody tr th:only-of-type {\n",
       "        vertical-align: middle;\n",
       "    }\n",
       "\n",
       "    .dataframe tbody tr th {\n",
       "        vertical-align: top;\n",
       "    }\n",
       "\n",
       "    .dataframe thead th {\n",
       "        text-align: right;\n",
       "    }\n",
       "</style>\n",
       "<table border=\"1\" class=\"dataframe\">\n",
       "  <thead>\n",
       "    <tr style=\"text-align: right;\">\n",
       "      <th></th>\n",
       "      <th>pred</th>\n",
       "      <th>drum</th>\n",
       "      <th>true</th>\n",
       "      <th>check</th>\n",
       "    </tr>\n",
       "  </thead>\n",
       "  <tbody>\n",
       "    <tr>\n",
       "      <th>0</th>\n",
       "      <td>2</td>\n",
       "      <td>kick</td>\n",
       "      <td>2</td>\n",
       "      <td>True</td>\n",
       "    </tr>\n",
       "    <tr>\n",
       "      <th>1</th>\n",
       "      <td>3</td>\n",
       "      <td>ks</td>\n",
       "      <td>3</td>\n",
       "      <td>True</td>\n",
       "    </tr>\n",
       "    <tr>\n",
       "      <th>2</th>\n",
       "      <td>2</td>\n",
       "      <td>kick</td>\n",
       "      <td>2</td>\n",
       "      <td>True</td>\n",
       "    </tr>\n",
       "    <tr>\n",
       "      <th>3</th>\n",
       "      <td>3</td>\n",
       "      <td>ks</td>\n",
       "      <td>3</td>\n",
       "      <td>True</td>\n",
       "    </tr>\n",
       "    <tr>\n",
       "      <th>4</th>\n",
       "      <td>2</td>\n",
       "      <td>kick</td>\n",
       "      <td>2</td>\n",
       "      <td>True</td>\n",
       "    </tr>\n",
       "    <tr>\n",
       "      <th>...</th>\n",
       "      <td>...</td>\n",
       "      <td>...</td>\n",
       "      <td>...</td>\n",
       "      <td>...</td>\n",
       "    </tr>\n",
       "    <tr>\n",
       "      <th>62</th>\n",
       "      <td>4</td>\n",
       "      <td>snare</td>\n",
       "      <td>3</td>\n",
       "      <td>False</td>\n",
       "    </tr>\n",
       "    <tr>\n",
       "      <th>63</th>\n",
       "      <td>3</td>\n",
       "      <td>ks</td>\n",
       "      <td>2</td>\n",
       "      <td>False</td>\n",
       "    </tr>\n",
       "    <tr>\n",
       "      <th>64</th>\n",
       "      <td>3</td>\n",
       "      <td>ks</td>\n",
       "      <td>4</td>\n",
       "      <td>False</td>\n",
       "    </tr>\n",
       "    <tr>\n",
       "      <th>65</th>\n",
       "      <td>0</td>\n",
       "      <td>ck</td>\n",
       "      <td>4</td>\n",
       "      <td>False</td>\n",
       "    </tr>\n",
       "    <tr>\n",
       "      <th>66</th>\n",
       "      <td>3</td>\n",
       "      <td>ks</td>\n",
       "      <td>4</td>\n",
       "      <td>False</td>\n",
       "    </tr>\n",
       "  </tbody>\n",
       "</table>\n",
       "<p>67 rows × 4 columns</p>\n",
       "</div>"
      ],
      "text/plain": [
       "    pred   drum  true  check\n",
       "0      2   kick     2   True\n",
       "1      3     ks     3   True\n",
       "2      2   kick     2   True\n",
       "3      3     ks     3   True\n",
       "4      2   kick     2   True\n",
       "..   ...    ...   ...    ...\n",
       "62     4  snare     3  False\n",
       "63     3     ks     2  False\n",
       "64     3     ks     4  False\n",
       "65     0     ck     4  False\n",
       "66     3     ks     4  False\n",
       "\n",
       "[67 rows x 4 columns]"
      ]
     },
     "execution_count": 70,
     "metadata": {},
     "output_type": "execute_result"
    }
   ],
   "source": [
    "rockacc"
   ]
  },
  {
   "cell_type": "code",
   "execution_count": 20,
   "id": "3b3bb673",
   "metadata": {},
   "outputs": [
    {
     "name": "stdout",
     "output_type": "stream",
     "text": [
      " kick snare   tom cymbal\n"
     ]
    },
    {
     "data": {
      "image/png": "[encoded data removed]",
      "text/plain": [
       "<Figure size 432x288 with 1 Axes>"
      ]
     },
     "metadata": {
      "needs_background": "light"
     },
     "output_type": "display_data"
    }
   ],
   "source": [
    "def imgshow(img):\n",
    "    npimg = img.numpy()\n",
    "    plt.imshow(np.transpose(npimg, (1, 2, 0)))\n",
    "\n",
    "    \n",
    "dataiter = iter(dm.train_loader)\n",
    "images, labels = next(dataiter)\n",
    "\n",
    "imgshow(torchvision.utils.make_grid(images))\n",
    "print(' '.join('%5s' % classes[labels[j]] for j in range(4)))"
   ]
  },
  {
   "cell_type": "code",
   "execution_count": 7,
   "id": "7fa2d892",
   "metadata": {},
   "outputs": [],
   "source": [
    "class Net(nn.Module):\n",
    "    def __init__(self):\n",
    "        super(Net, self).__init__()\n",
    "        self.conv1 = nn.Conv2d(3, 6, 5) #in_channels = 3: RGB\n",
    "        self.pool = nn.MaxPool2d(2, 2)\n",
    "        self.conv2 = nn.Conv2d(6, 16, 5)\n",
    "        self.fc1 = nn.Linear(115920, 120)\n",
    "        self.fc2 = nn.Linear(120, 84)\n",
    "        self.fc3 = nn.Linear(84, 6) #last number = num of classes\n",
    "\n",
    "    def forward(self, x):\n",
    "        x = self.pool(F.relu(self.conv1(x)))\n",
    "        x = self.pool(F.relu(self.conv2(x)))\n",
    "        x = x.view(x.size(0), -1)\n",
    "        x = F.relu(self.fc1(x))\n",
    "        x = F.relu(self.fc2(x))\n",
    "        x = self.fc3(x)\n",
    "        return x\n",
    "\n",
    "\n",
    "net = Net()"
   ]
  },
  {
   "cell_type": "code",
   "execution_count": 8,
   "id": "7ed00e90",
   "metadata": {},
   "outputs": [
    {
     "name": "stdout",
     "output_type": "stream",
     "text": [
      "Net(\n",
      "  (conv1): Conv2d(3, 6, kernel_size=(5, 5), stride=(1, 1))\n",
      "  (pool): MaxPool2d(kernel_size=2, stride=2, padding=0, dilation=1, ceil_mode=False)\n",
      "  (conv2): Conv2d(6, 16, kernel_size=(5, 5), stride=(1, 1))\n",
      "  (fc1): Linear(in_features=115920, out_features=120, bias=True)\n",
      "  (fc2): Linear(in_features=120, out_features=84, bias=True)\n",
      "  (fc3): Linear(in_features=84, out_features=6, bias=True)\n",
      ")\n"
     ]
    }
   ],
   "source": [
    "print(net)"
   ]
  },
  {
   "cell_type": "code",
   "execution_count": 9,
   "id": "1d9002d5",
   "metadata": {},
   "outputs": [],
   "source": [
    "criterion = nn.CrossEntropyLoss()\n",
    "optimizer = optim.SGD(net.parameters(), lr=0.001, momentum=0.9)"
   ]
  },
  {
   "cell_type": "code",
   "execution_count": 16,
   "id": "447d422e",
   "metadata": {},
   "outputs": [
    {
     "name": "stdout",
     "output_type": "stream",
     "text": [
      "Finished Training\n"
     ]
    }
   ],
   "source": [
    "for epoch in range(15):  # loop over the dataset multiple times\n",
    "\n",
    "    running_loss = 0.0\n",
    "    for i, data in enumerate(dm.train_loader, 0):\n",
    "        # get the inputs\n",
    "        inputs, labels = data\n",
    "\n",
    "        # zero the parameter gradients\n",
    "        optimizer.zero_grad()\n",
    "\n",
    "        # forward + backward + optimize\n",
    "        outputs = net(inputs)\n",
    "        loss = criterion(outputs, labels)\n",
    "        loss.backward()\n",
    "        optimizer.step()\n",
    "\n",
    "        # print statistics\n",
    "        running_loss += loss.item()\n",
    "        if i % 2000 == 1999:    # print every 2000 mini-batches\n",
    "            print('[%d, %5d] loss: %.3f' %\n",
    "                  (epoch + 1, i + 1, running_loss / 2000))\n",
    "            running_loss = 0.0\n",
    "\n",
    "print('Finished Training')"
   ]
  },
  {
   "cell_type": "code",
   "execution_count": 53,
   "id": "8c178f8f",
   "metadata": {},
   "outputs": [],
   "source": [
    "kyoto = DrumsModel('kyoto', classes)"
   ]
  },
  {
   "cell_type": "code",
   "execution_count": 21,
   "id": "8fd0c534",
   "metadata": {},
   "outputs": [
    {
     "name": "stdout",
     "output_type": "stream",
     "text": [
      "GroundTruth: ck ck ck ck\n",
      "Predicted: ks ks kick snare\n"
     ]
    },
    {
     "data": {
      "image/png": "[encoded data removed]",
      "text/plain": [
       "<Figure size 432x288 with 1 Axes>"
      ]
     },
     "metadata": {
      "needs_background": "light"
     },
     "output_type": "display_data"
    }
   ],
   "source": [
    "kyoto.predpic()"
   ]
  },
  {
   "cell_type": "code",
   "execution_count": 54,
   "id": "31988ddc",
   "metadata": {},
   "outputs": [
    {
     "name": "stdout",
     "output_type": "stream",
     "text": [
      "Epoch 14: model accuracy 0.00%\n"
     ]
    },
    {
     "data": {
      "text/html": [
       "<div>\n",
       "<style scoped>\n",
       "    .dataframe tbody tr th:only-of-type {\n",
       "        vertical-align: middle;\n",
       "    }\n",
       "\n",
       "    .dataframe tbody tr th {\n",
       "        vertical-align: top;\n",
       "    }\n",
       "\n",
       "    .dataframe thead th {\n",
       "        text-align: right;\n",
       "    }\n",
       "</style>\n",
       "<table border=\"1\" class=\"dataframe\">\n",
       "  <thead>\n",
       "    <tr style=\"text-align: right;\">\n",
       "      <th></th>\n",
       "      <th>pred</th>\n",
       "      <th>drum</th>\n",
       "    </tr>\n",
       "  </thead>\n",
       "  <tbody>\n",
       "    <tr>\n",
       "      <th>0</th>\n",
       "      <td>3</td>\n",
       "      <td>ks</td>\n",
       "    </tr>\n",
       "    <tr>\n",
       "      <th>1</th>\n",
       "      <td>3</td>\n",
       "      <td>ks</td>\n",
       "    </tr>\n",
       "    <tr>\n",
       "      <th>2</th>\n",
       "      <td>2</td>\n",
       "      <td>kick</td>\n",
       "    </tr>\n",
       "    <tr>\n",
       "      <th>3</th>\n",
       "      <td>4</td>\n",
       "      <td>snare</td>\n",
       "    </tr>\n",
       "    <tr>\n",
       "      <th>4</th>\n",
       "      <td>2</td>\n",
       "      <td>kick</td>\n",
       "    </tr>\n",
       "    <tr>\n",
       "      <th>...</th>\n",
       "      <td>...</td>\n",
       "      <td>...</td>\n",
       "    </tr>\n",
       "    <tr>\n",
       "      <th>280</th>\n",
       "      <td>2</td>\n",
       "      <td>kick</td>\n",
       "    </tr>\n",
       "    <tr>\n",
       "      <th>281</th>\n",
       "      <td>1</td>\n",
       "      <td>cymbal</td>\n",
       "    </tr>\n",
       "    <tr>\n",
       "      <th>282</th>\n",
       "      <td>2</td>\n",
       "      <td>kick</td>\n",
       "    </tr>\n",
       "    <tr>\n",
       "      <th>283</th>\n",
       "      <td>2</td>\n",
       "      <td>kick</td>\n",
       "    </tr>\n",
       "    <tr>\n",
       "      <th>284</th>\n",
       "      <td>2</td>\n",
       "      <td>kick</td>\n",
       "    </tr>\n",
       "  </tbody>\n",
       "</table>\n",
       "<p>285 rows × 2 columns</p>\n",
       "</div>"
      ],
      "text/plain": [
       "     pred    drum\n",
       "0       3      ks\n",
       "1       3      ks\n",
       "2       2    kick\n",
       "3       4   snare\n",
       "4       2    kick\n",
       "..    ...     ...\n",
       "280     2    kick\n",
       "281     1  cymbal\n",
       "282     2    kick\n",
       "283     2    kick\n",
       "284     2    kick\n",
       "\n",
       "[285 rows x 2 columns]"
      ]
     },
     "execution_count": 54,
     "metadata": {},
     "output_type": "execute_result"
    }
   ],
   "source": [
    "kyoto.predict()"
   ]
  }
 ],
 "metadata": {
  "kernelspec": {
   "display_name": "Python 3 (ipykernel)",
   "language": "python",
   "name": "python3"
  },
  "language_info": {
   "codemirror_mode": {
    "name": "ipython",
    "version": 3
   },
   "file_extension": ".py",
   "mimetype": "text/x-python",
   "name": "python",
   "nbconvert_exporter": "python",
   "pygments_lexer": "ipython3",
   "version": "3.9.12"
  }
 },
 "nbformat": 4,
 "nbformat_minor": 5
}
